{
 "cells": [
  {
   "cell_type": "markdown",
   "metadata": {},
   "source": [
    "## Examining the relationship between crude oil prices and gasoline prices"
   ]
  },
  {
   "cell_type": "code",
   "execution_count": null,
   "metadata": {},
   "outputs": [],
   "source": [
    "import os\n",
    "import requests\n",
    "import pandas as pd\n",
    "from pandas.tseries.offsets import DateOffset\n",
    "import seaborn as sns\n",
    "from matplotlib import pyplot as plt\n",
    "from matplotlib.lines import Line2D\n",
    "import statsmodels.api as sm\n",
    "import numpy as np\n",
    "import pymc3 as pm\n",
    "import json\n",
    "import arviz as az\n"
   ]
  },
  {
   "cell_type": "code",
   "execution_count": null,
   "metadata": {},
   "outputs": [],
   "source": [
    "eia_api_key = os.environ['EIA_API_KEY']"
   ]
  },
  {
   "cell_type": "code",
   "execution_count": null,
   "metadata": {},
   "outputs": [],
   "source": [
    "wti_api_url = r'https://api.eia.gov/series/?api_key=' + eia_api_key + '&series_id=PET.RWTC.D'\n",
    "response = requests.get(wti_api_url)\n",
    "wti = response.json()\n",
    "df_wti = pd.DataFrame(wti['series'][0]['data'])\n",
    "df_wti.rename(columns={0: 'date', 1: 'wti'}, inplace=True)\n",
    "df_wti['date'] = pd.to_datetime(df_wti.date)\n",
    "df_wti.sort_values(by='date', inplace=True)\n",
    "df_wti.tail()"
   ]
  },
  {
   "cell_type": "code",
   "execution_count": null,
   "metadata": {},
   "outputs": [],
   "source": [
    "gasoline_api_url = r'https://api.eia.gov/series/?api_key=' + eia_api_key + '&series_id=PET.EMM_EPM0_PTE_NUS_DPG.W'\n",
    "response = requests.get(gasoline_api_url)\n",
    "gasoline = response.json()\n",
    "df_gasoline = pd.DataFrame(gasoline['series'][0]['data'])\n",
    "df_gasoline.rename(columns={0: 'date', 1: 'gasoline'}, inplace=True)\n",
    "df_gasoline['date'] = pd.to_datetime(df_gasoline.date)\n",
    "df_gasoline.sort_values(by='date', inplace=True)\n",
    "df_gasoline.tail()"
   ]
  },
  {
   "cell_type": "code",
   "execution_count": null,
   "metadata": {},
   "outputs": [],
   "source": [
    "def weekly_oil(df1, df2):\n",
    "    wti_weekly = pd.DataFrame(columns=['date', 'wti'])\n",
    "    wti_prices = []\n",
    "    num_dates = len(df1.date.unique())\n",
    "    for i, d in enumerate(df1.date.unique()):\n",
    "        if i == 0:\n",
    "            end = pd.Timestamp(d)\n",
    "            start = end - DateOffset(days=7)\n",
    "            wti_prices.append(df2.loc[(df2.date>start)&(df2.date<=end), 'wti'].mean())\n",
    "        else:\n",
    "            start = df1.date.iloc[i-1]\n",
    "            end = d\n",
    "            wti_prices.append(df2.loc[(df2.date>start)&(df2.date<=end), 'wti'].mean())\n",
    "    wti_weekly['date'] = df1.date.unique()\n",
    "    wti_weekly['wti'] = wti_prices\n",
    "    return wti_weekly\n",
    "\n",
    "df_wti_weekly = weekly_oil(df_gasoline, df_wti)"
   ]
  },
  {
   "cell_type": "code",
   "execution_count": null,
   "metadata": {},
   "outputs": [],
   "source": [
    "df = df_gasoline.merge(df_wti_weekly, on='date')\n",
    "df['year'] = df.date.dt.year"
   ]
  },
  {
   "cell_type": "code",
   "execution_count": null,
   "metadata": {},
   "outputs": [],
   "source": [
    "fig, ax1 = plt.subplots(figsize=(15,7))\n",
    "ax2 = ax1.twinx()\n",
    "g = sns.lineplot(data=df, x='date', y='gasoline', ax=ax1)\n",
    "sns.lineplot(data=df, x='date', y='wti', ax=ax2, color='orange')\n",
    "g.legend(handles=[Line2D([], [], color='blue', label='gasoline'),\n",
    "                  Line2D([], [], color='orange', label='wti')], loc=(0.01,.9))\n",
    "plt.savefig('wti and gasoline vs time.png')"
   ]
  },
  {
   "cell_type": "code",
   "execution_count": null,
   "metadata": {},
   "outputs": [],
   "source": [
    "cross_corr = sm.tsa.stattools.ccf(df.wti, df.gasoline, adjusted=False)\n",
    "fig, ax = plt.subplots(figsize=(15,7))\n",
    "plt.bar(np.arange(1, len(df)+1), cross_corr, width=1)\n",
    "plt.ylabel('correlation')\n",
    "plt.xlabel('lag')\n",
    "plt.savefig('wti vs gasoline cross correlation.png')"
   ]
  },
  {
   "cell_type": "code",
   "execution_count": null,
   "metadata": {},
   "outputs": [],
   "source": [
    "df['gasoline_bbls'] = df.gasoline * 42\n",
    "df['crack_spread'] = df.gasoline_bbls - df.wti\n",
    "df.tail()"
   ]
  },
  {
   "cell_type": "code",
   "execution_count": null,
   "metadata": {},
   "outputs": [],
   "source": [
    "fig, ax1 = plt.subplots(figsize=(15,7))\n",
    "sns.lineplot(data=df, x='date', y='wti')\n",
    "sns.lineplot(data=df, x='date', y='gasoline_bbls')\n",
    "plt.fill_between(df.date, df.wti, df.gasoline_bbls, alpha=0.33)"
   ]
  },
  {
   "cell_type": "code",
   "execution_count": null,
   "metadata": {},
   "outputs": [],
   "source": [
    "\n",
    "fig, ax1 = plt.subplots(figsize=(15,7))\n",
    "g = sns.lineplot(data=df, x='date', y='crack_spread', ax=ax1)\n",
    "plt.ylabel('crack spread')\n",
    "plt.savefig('crack spread vs time.png')"
   ]
  },
  {
   "cell_type": "code",
   "execution_count": null,
   "metadata": {},
   "outputs": [],
   "source": [
    "headers = {'Content-type': 'application/json'}\n",
    "data = json.dumps({'seriesid':  ['CUUR0000SA0E'],\n",
    "                   'startyear': '1992', \n",
    "                   'endyear':   '2001'})\n",
    "p = requests.post('https://api.bls.gov/publicAPI/v1/timeseries/data/', data=data, headers=headers)\n",
    "cpi_data1 = json.loads(p.text)\n",
    "print(cpi_data1['status'])\n",
    "print(cpi_data1['message'])\n",
    "\n",
    "headers = {'Content-type': 'application/json'}\n",
    "data = json.dumps({'seriesid':  ['CUUR0000SA0E'],\n",
    "                   'startyear': '2002', \n",
    "                   'endyear':   '2011'})\n",
    "p = requests.post('https://api.bls.gov/publicAPI/v1/timeseries/data/', data=data, headers=headers)\n",
    "cpi_data2 = json.loads(p.text)\n",
    "print(cpi_data2['status'])\n",
    "print(cpi_data2['message'])\n",
    "\n",
    "headers = {'Content-type': 'application/json'}\n",
    "data = json.dumps({'seriesid':  ['CUUR0000SA0E'],\n",
    "                   'startyear': '2012', \n",
    "                   'endyear':   '2021'})\n",
    "p = requests.post('https://api.bls.gov/publicAPI/v1/timeseries/data/', data=data, headers=headers)\n",
    "cpi_data3 = json.loads(p.text)\n",
    "print(cpi_data3['status'])\n",
    "print(cpi_data3['message'])\n",
    "\n",
    "headers = {'Content-type': 'application/json'}\n",
    "data = json.dumps({'seriesid':  ['CUUR0000SA0E'],\n",
    "                   'startyear': '2022', \n",
    "                   'endyear':   '2022'})\n",
    "p = requests.post('https://api.bls.gov/publicAPI/v1/timeseries/data/', data=data, headers=headers)\n",
    "cpi_data4 = json.loads(p.text)\n",
    "print(cpi_data4['status'])\n",
    "print(cpi_data4['message'])"
   ]
  },
  {
   "cell_type": "code",
   "execution_count": null,
   "metadata": {},
   "outputs": [],
   "source": [
    "df_cpi = pd.DataFrame(columns=['year', 'period', 'value'])\n",
    "year = []\n",
    "period = []\n",
    "value = []\n",
    "\n",
    "for i in cpi_data1['Results']['series'][0]['data']:\n",
    "    year.append(int(i['year']))\n",
    "    if 'S' not in i['period']:\n",
    "        period.append(int(i['period'].strip('M')))\n",
    "    value.append(float(i['value']))\n",
    "\n",
    "for i in cpi_data2['Results']['series'][0]['data']:\n",
    "    year.append(int(i['year']))\n",
    "    if 'S' not in i['period']:\n",
    "        period.append(int(i['period'].strip('M')))\n",
    "    value.append(float(i['value']))\n",
    "\n",
    "for i in cpi_data3['Results']['series'][0]['data']:\n",
    "    year.append(int(i['year']))\n",
    "    if 'S' not in i['period']:\n",
    "        period.append(int(i['period'].strip('M')))\n",
    "    value.append(float(i['value']))\n",
    "\n",
    "for i in cpi_data4['Results']['series'][0]['data']:\n",
    "    year.append(int(i['year']))\n",
    "    if 'S' not in i['period']:\n",
    "        period.append(int(i['period'].strip('M')))\n",
    "    value.append(float(i['value']))\n",
    "\n",
    "df_cpi['year'] = year\n",
    "df_cpi['period'] = period\n",
    "df_cpi['value'] = value"
   ]
  },
  {
   "cell_type": "code",
   "execution_count": null,
   "metadata": {},
   "outputs": [],
   "source": [
    "cpi_values = []\n",
    "for i, row in df.iterrows():\n",
    "    year = row['year']\n",
    "    month = row['date'].month\n",
    "    cpi = df_cpi.loc[(df_cpi.year == year) & (df_cpi.period == month), 'value'].values\n",
    "    if len(cpi) > 0:\n",
    "        cpi_values.append(cpi[0])\n",
    "    else:\n",
    "        cpi_values.append(cpi_values[i-1])\n",
    "df['cpi_values'] = cpi_values\n",
    "df['crack_spread_adj'] = df.crack_spread / df.cpi_values * 100\n",
    "df['gasoline_adj'] = df.gasoline / df.cpi_values * 100\n",
    "df['gasoline_bbls_adj'] = df.gasoline_bbls / df.cpi_values * 100\n",
    "df['wti_adj'] = df.wti / df.cpi_values * 100"
   ]
  },
  {
   "cell_type": "code",
   "execution_count": null,
   "metadata": {},
   "outputs": [],
   "source": [
    "fig, ax1 = plt.subplots(figsize=(15,7))\n",
    "g = sns.lineplot(data=df, x='date', y='cpi_values', ax=ax1)"
   ]
  },
  {
   "cell_type": "code",
   "execution_count": null,
   "metadata": {},
   "outputs": [],
   "source": [
    "fig, ax1 = plt.subplots(figsize=(15,7))\n",
    "g = sns.lineplot(data=df, x='date', y='crack_spread_adj', ax=ax1)\n",
    "plt.ylabel('crack spread inflation-adjusted')\n",
    "plt.savefig('crack spread adjusted vs time.png')"
   ]
  },
  {
   "cell_type": "code",
   "execution_count": null,
   "metadata": {},
   "outputs": [],
   "source": [
    "fig, ax = plt.subplots(figsize=(15,7))\n",
    "sns.scatterplot(data=df, x='wti', y='gasoline')\n",
    "plt.savefig('wti vs gasoline.png')"
   ]
  },
  {
   "cell_type": "code",
   "execution_count": null,
   "metadata": {},
   "outputs": [],
   "source": [
    "fig, ax = plt.subplots(figsize=(15,7))\n",
    "sns.scatterplot(data=df, x='wti', y='gasoline', hue='year')\n",
    "plt.savefig('wti vs gasoline by year.png')"
   ]
  },
  {
   "cell_type": "code",
   "execution_count": null,
   "metadata": {},
   "outputs": [],
   "source": [
    "sns.lmplot(data=df[df.year>=2008], x='wti', y='gasoline', hue='year', palette='rocket_r', height=7, aspect=1.667)\n",
    "plt.savefig('wti vs gasoline by year fitted.png')"
   ]
  },
  {
   "cell_type": "code",
   "execution_count": null,
   "metadata": {},
   "outputs": [],
   "source": [
    "sns.lmplot(data=df[df.year>=2008], x='wti_adj', y='gasoline_adj', hue='year', palette='rocket_r', height=7, aspect=1.667)\n",
    "plt.savefig('wti vs gasoline adjusted by year fitted.png')"
   ]
  },
  {
   "cell_type": "code",
   "execution_count": null,
   "metadata": {},
   "outputs": [],
   "source": [
    "sns.lmplot(data=df[df.year>=2008], x='wti', y='gasoline_bbls', height=7, aspect=1.667)"
   ]
  },
  {
   "cell_type": "code",
   "execution_count": null,
   "metadata": {},
   "outputs": [],
   "source": [
    "sns.lmplot(data=df[df.year>=2008], x='wti_adj', y='gasoline_bbls_adj', height=7, aspect=1.667)"
   ]
  },
  {
   "cell_type": "code",
   "execution_count": null,
   "metadata": {},
   "outputs": [],
   "source": [
    "X = df[df.year>=2008].wti_adj\n",
    "y = df[df.year>=2008].gasoline_bbls_adj\n",
    "\n",
    "with pm.Model() as model:\n",
    "    b1 = pm.Normal('slope', 0, 100)\n",
    "    b0 = pm.Normal('intercept', 0, 100)\n",
    "    s = pm.Exponential('error', 1)\n",
    "    x_ = pm.Data('features', X)\n",
    "\n",
    "    obs = pm.Normal('observation', b1*x_ + b0, s, observed=y)\n",
    "    \n",
    "    trace = pm.sample(tune=10000)\n",
    "    \n",
    "az.plot_posterior(trace)\n",
    "az.plot_trace(trace)"
   ]
  },
  {
   "cell_type": "code",
   "execution_count": null,
   "metadata": {},
   "outputs": [],
   "source": [
    "x_new = np.linspace(0,60,61)\n",
    "with model:\n",
    "    pm.set_data({'features': x_new})\n",
    "    posterior = pm.sample_posterior_predictive(trace)\n",
    "\n",
    "y_pred = posterior['observation']\n",
    "y_mean = y_pred.mean(axis=0)\n",
    "y_std = y_pred.std(axis=0)\n",
    "\n",
    "fig, ax = plt.subplots(figsize=(15,7))\n",
    "sns.scatterplot(data=df[df.year>=2008], x='wti_adj', y='gasoline_bbls_adj')\n",
    "plt.plot(x_new, y_mean, label='Prediction Mean')\n",
    "plt.fill_between(x_new, y_mean - 3*y_std, y_mean + 3*y_std, alpha=0.33, label='Uncertainty Interval ($\\mu\\pm3\\sigma$)')\n",
    "plt.legend(loc='upper left')\n",
    "plt.savefig('predicted wti vs gasoline.png')"
   ]
  },
  {
   "cell_type": "code",
   "execution_count": null,
   "metadata": {},
   "outputs": [],
   "source": [
    "fig, ax = plt.subplots(figsize=(15,7))\n",
    "sns.scatterplot(data=df, x='wti_adj', y='crack_spread_adj')"
   ]
  },
  {
   "cell_type": "code",
   "execution_count": null,
   "metadata": {},
   "outputs": [],
   "source": [
    "fig, ax = plt.subplots(figsize=(15,7))\n",
    "sns.scatterplot(data=df[df.year>=2008], x='wti_adj', y='crack_spread_adj', hue='year', palette='rocket_r')"
   ]
  }
 ],
 "metadata": {
  "interpreter": {
   "hash": "b0fa6594d8f4cbf19f97940f81e996739fb7646882a419484c72d19e05852a7e"
  },
  "kernelspec": {
   "display_name": "Python 3.9.10 64-bit",
   "language": "python",
   "name": "python3"
  },
  "language_info": {
   "codemirror_mode": {
    "name": "ipython",
    "version": 3
   },
   "file_extension": ".py",
   "mimetype": "text/x-python",
   "name": "python",
   "nbconvert_exporter": "python",
   "pygments_lexer": "ipython3",
   "version": "3.9.10"
  },
  "orig_nbformat": 4
 },
 "nbformat": 4,
 "nbformat_minor": 2
}
